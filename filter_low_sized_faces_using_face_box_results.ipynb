{
  "nbformat": 4,
  "nbformat_minor": 0,
  "metadata": {
    "colab": {
      "name": "filter-low-sized-faces--using-face-box-results.ipynb",
      "provenance": [],
      "collapsed_sections": [],
      "authorship_tag": "ABX9TyMaSHBrVcmriDyA5Ve4lnJK",
      "include_colab_link": true
    },
    "kernelspec": {
      "name": "python3",
      "display_name": "Python 3"
    },
    "widgets": {
      "application/vnd.jupyter.widget-state+json": {
        "771a5e87249b4fc5a56359e788caf96e": {
          "model_module": "@jupyter-widgets/controls",
          "model_name": "HBoxModel",
          "state": {
            "_view_name": "HBoxView",
            "_dom_classes": [],
            "_model_name": "HBoxModel",
            "_view_module": "@jupyter-widgets/controls",
            "_model_module_version": "1.5.0",
            "_view_count": null,
            "_view_module_version": "1.5.0",
            "box_style": "",
            "layout": "IPY_MODEL_462b50c8c33b4180b4496d55f90856da",
            "_model_module": "@jupyter-widgets/controls",
            "children": [
              "IPY_MODEL_4c8d434358564f2890ebe60f53c7f49b",
              "IPY_MODEL_5e4407f567ea4ae0885bd5000a6ba49f"
            ]
          }
        },
        "462b50c8c33b4180b4496d55f90856da": {
          "model_module": "@jupyter-widgets/base",
          "model_name": "LayoutModel",
          "state": {
            "_view_name": "LayoutView",
            "grid_template_rows": null,
            "right": null,
            "justify_content": null,
            "_view_module": "@jupyter-widgets/base",
            "overflow": null,
            "_model_module_version": "1.2.0",
            "_view_count": null,
            "flex_flow": null,
            "width": null,
            "min_width": null,
            "border": null,
            "align_items": null,
            "bottom": null,
            "_model_module": "@jupyter-widgets/base",
            "top": null,
            "grid_column": null,
            "overflow_y": null,
            "overflow_x": null,
            "grid_auto_flow": null,
            "grid_area": null,
            "grid_template_columns": null,
            "flex": null,
            "_model_name": "LayoutModel",
            "justify_items": null,
            "grid_row": null,
            "max_height": null,
            "align_content": null,
            "visibility": null,
            "align_self": null,
            "height": null,
            "min_height": null,
            "padding": null,
            "grid_auto_rows": null,
            "grid_gap": null,
            "max_width": null,
            "order": null,
            "_view_module_version": "1.2.0",
            "grid_template_areas": null,
            "object_position": null,
            "object_fit": null,
            "grid_auto_columns": null,
            "margin": null,
            "display": null,
            "left": null
          }
        },
        "4c8d434358564f2890ebe60f53c7f49b": {
          "model_module": "@jupyter-widgets/controls",
          "model_name": "FloatProgressModel",
          "state": {
            "_view_name": "ProgressView",
            "style": "IPY_MODEL_dea9ce31cb9d4bbc8286c459d0025056",
            "_dom_classes": [],
            "description": "100%",
            "_model_name": "FloatProgressModel",
            "bar_style": "success",
            "max": 1,
            "_view_module": "@jupyter-widgets/controls",
            "_model_module_version": "1.5.0",
            "value": 1,
            "_view_count": null,
            "_view_module_version": "1.5.0",
            "orientation": "horizontal",
            "min": 0,
            "description_tooltip": null,
            "_model_module": "@jupyter-widgets/controls",
            "layout": "IPY_MODEL_b3c3b71532ca481382a820219c5fc97c"
          }
        },
        "5e4407f567ea4ae0885bd5000a6ba49f": {
          "model_module": "@jupyter-widgets/controls",
          "model_name": "HTMLModel",
          "state": {
            "_view_name": "HTMLView",
            "style": "IPY_MODEL_e64e6f12ec8b4c6a99d4b3092a549da4",
            "_dom_classes": [],
            "description": "",
            "_model_name": "HTMLModel",
            "placeholder": "​",
            "_view_module": "@jupyter-widgets/controls",
            "_model_module_version": "1.5.0",
            "value": " 1/1 [03:00&lt;00:00, 180.13s/it]",
            "_view_count": null,
            "_view_module_version": "1.5.0",
            "description_tooltip": null,
            "_model_module": "@jupyter-widgets/controls",
            "layout": "IPY_MODEL_e7712109bb15433a9a1779f50b2641b0"
          }
        },
        "dea9ce31cb9d4bbc8286c459d0025056": {
          "model_module": "@jupyter-widgets/controls",
          "model_name": "ProgressStyleModel",
          "state": {
            "_view_name": "StyleView",
            "_model_name": "ProgressStyleModel",
            "description_width": "initial",
            "_view_module": "@jupyter-widgets/base",
            "_model_module_version": "1.5.0",
            "_view_count": null,
            "_view_module_version": "1.2.0",
            "bar_color": null,
            "_model_module": "@jupyter-widgets/controls"
          }
        },
        "b3c3b71532ca481382a820219c5fc97c": {
          "model_module": "@jupyter-widgets/base",
          "model_name": "LayoutModel",
          "state": {
            "_view_name": "LayoutView",
            "grid_template_rows": null,
            "right": null,
            "justify_content": null,
            "_view_module": "@jupyter-widgets/base",
            "overflow": null,
            "_model_module_version": "1.2.0",
            "_view_count": null,
            "flex_flow": null,
            "width": null,
            "min_width": null,
            "border": null,
            "align_items": null,
            "bottom": null,
            "_model_module": "@jupyter-widgets/base",
            "top": null,
            "grid_column": null,
            "overflow_y": null,
            "overflow_x": null,
            "grid_auto_flow": null,
            "grid_area": null,
            "grid_template_columns": null,
            "flex": null,
            "_model_name": "LayoutModel",
            "justify_items": null,
            "grid_row": null,
            "max_height": null,
            "align_content": null,
            "visibility": null,
            "align_self": null,
            "height": null,
            "min_height": null,
            "padding": null,
            "grid_auto_rows": null,
            "grid_gap": null,
            "max_width": null,
            "order": null,
            "_view_module_version": "1.2.0",
            "grid_template_areas": null,
            "object_position": null,
            "object_fit": null,
            "grid_auto_columns": null,
            "margin": null,
            "display": null,
            "left": null
          }
        },
        "e64e6f12ec8b4c6a99d4b3092a549da4": {
          "model_module": "@jupyter-widgets/controls",
          "model_name": "DescriptionStyleModel",
          "state": {
            "_view_name": "StyleView",
            "_model_name": "DescriptionStyleModel",
            "description_width": "",
            "_view_module": "@jupyter-widgets/base",
            "_model_module_version": "1.5.0",
            "_view_count": null,
            "_view_module_version": "1.2.0",
            "_model_module": "@jupyter-widgets/controls"
          }
        },
        "e7712109bb15433a9a1779f50b2641b0": {
          "model_module": "@jupyter-widgets/base",
          "model_name": "LayoutModel",
          "state": {
            "_view_name": "LayoutView",
            "grid_template_rows": null,
            "right": null,
            "justify_content": null,
            "_view_module": "@jupyter-widgets/base",
            "overflow": null,
            "_model_module_version": "1.2.0",
            "_view_count": null,
            "flex_flow": null,
            "width": null,
            "min_width": null,
            "border": null,
            "align_items": null,
            "bottom": null,
            "_model_module": "@jupyter-widgets/base",
            "top": null,
            "grid_column": null,
            "overflow_y": null,
            "overflow_x": null,
            "grid_auto_flow": null,
            "grid_area": null,
            "grid_template_columns": null,
            "flex": null,
            "_model_name": "LayoutModel",
            "justify_items": null,
            "grid_row": null,
            "max_height": null,
            "align_content": null,
            "visibility": null,
            "align_self": null,
            "height": null,
            "min_height": null,
            "padding": null,
            "grid_auto_rows": null,
            "grid_gap": null,
            "max_width": null,
            "order": null,
            "_view_module_version": "1.2.0",
            "grid_template_areas": null,
            "object_position": null,
            "object_fit": null,
            "grid_auto_columns": null,
            "margin": null,
            "display": null,
            "left": null
          }
        }
      }
    }
  },
  "cells": [
    {
      "cell_type": "markdown",
      "metadata": {
        "id": "view-in-github",
        "colab_type": "text"
      },
      "source": [
        "<a href=\"https://colab.research.google.com/github/azroddin123/IBM-Demo/blob/master/filter_low_sized_faces_using_face_box_results.ipynb\" target=\"_parent\"><img src=\"https://colab.research.google.com/assets/colab-badge.svg\" alt=\"Open In Colab\"/></a>"
      ]
    },
    {
      "cell_type": "code",
      "metadata": {
        "id": "xuWcTJWVFMGE",
        "colab_type": "code",
        "colab": {
          "base_uri": "https://localhost:8080/",
          "height": 35
        },
        "outputId": "0e70d0bf-1160-43a9-86fd-b51a635ac14d"
      },
      "source": [
        "# progressbar -- multiprocess\n",
        "!pip install tqdm==4.48.0"
      ],
      "execution_count": null,
      "outputs": [
        {
          "output_type": "stream",
          "text": [
            "Requirement already satisfied: tqdm==4.48.0 in /usr/local/lib/python3.6/dist-packages (4.48.0)\n"
          ],
          "name": "stdout"
        }
      ]
    },
    {
      "cell_type": "code",
      "metadata": {
        "id": "ilAh82iIE_Y4",
        "colab_type": "code",
        "colab": {}
      },
      "source": [
        "import os\n",
        "import shutil\n",
        "from pathlib import Path\n",
        "\n",
        "from operator import itemgetter\n",
        "\n",
        "# from tqdm import tqdm  # progess bar @# console\n",
        "from tqdm.notebook import tqdm\n",
        "from tqdm.contrib.concurrent import process_map # multi-process - tqdm>=4.42.0\n"
      ],
      "execution_count": null,
      "outputs": []
    },
    {
      "cell_type": "code",
      "metadata": {
        "id": "W1xN5ZzDFZst",
        "colab_type": "code",
        "colab": {}
      },
      "source": [
        "def list_files(root_dir, mindepth = 1, maxdepth = float('inf'), filter_ext=[], return_relative_path=False):\n",
        "    \"\"\"\n",
        "    Usage:\n",
        "\n",
        "    d = get_all_files(rootdir, mindepth = 1, maxdepth = 2)\n",
        "\n",
        "    This returns a list of all files of a directory, including all files in\n",
        "    subdirectories. Full paths are returned.\n",
        "\n",
        "    WARNING: this may create a very large list if many files exists in the \n",
        "    directory and subdirectories. Make sure you set the maxdepth appropriately.\n",
        "\n",
        "    rootdir  = existing directory to start\n",
        "    mindepth = int: the level to start, 1 is start at root dir, 2 is start \n",
        "               at the sub direcories of the root dir, and-so-on-so-forth.\n",
        "    maxdepth = int: the level which to report to. Example, if you only want \n",
        "               in the files of the sub directories of the root dir, \n",
        "               set mindepth = 2 and maxdepth = 2. If you only want the files\n",
        "               of the root dir itself, set mindepth = 1 and maxdepth = 1\n",
        "    \n",
        "    filter_ext(list, optional) :  filter files ex. [.jpg, .png]\n",
        "    return_relative_path(bool): Default false. If true return relative path else return absolute path\n",
        "    \"\"\"\n",
        "    root_dir = os.path.normcase(root_dir)\n",
        "    file_paths = []\n",
        "    root_depth = root_dir.rstrip(os.path.sep).count(os.path.sep) - 1\n",
        "    lowered_filter_ext = tuple([ext.lower() for ext in filter_ext])\n",
        "\n",
        "    for abs_dir, dirs, files in os.walk(root_dir):\n",
        "        depth = abs_dir.count(os.path.sep) - root_depth\n",
        "        if mindepth <= depth <= maxdepth:\n",
        "            for filename in files:\n",
        "                if filter_ext:\n",
        "                    if not filename.lower().endswith(lowered_filter_ext):\n",
        "                        continue\n",
        "\n",
        "                if return_relative_path:\n",
        "                    rel_dir = os.path.relpath(abs_dir, root_dir)\n",
        "                    if rel_dir == \".\":\n",
        "                        file_paths.append(filename)\n",
        "                    else:\n",
        "                        file_paths.append(os.path.join(rel_dir, filename))\n",
        "                else:\n",
        "                    # append full absolute path\n",
        "                    file_paths.append(os.path.join(abs_dir, filename))\n",
        "\n",
        "        elif depth > maxdepth:\n",
        "            # del dirs[:] \n",
        "            pass\n",
        "    return file_paths"
      ],
      "execution_count": null,
      "outputs": []
    },
    {
      "cell_type": "code",
      "metadata": {
        "id": "RMprRusMFcNj",
        "colab_type": "code",
        "colab": {}
      },
      "source": [
        "def remove_img_and_face_result_txt(image_file, face_detection_result_txt_file):\n",
        "    try:\n",
        "        os.remove(image_file)\n",
        "        is_image_deleted = True\n",
        "    except OSError:\n",
        "        is_image_deleted = False\n",
        "        pass\n",
        "\n",
        "    try:\n",
        "        os.remove(face_detection_result_txt_file)\n",
        "        is_txt_deleted = True\n",
        "    except OSError:\n",
        "        is_txt_deleted = False\n",
        "        pass\n",
        "    return (is_image_deleted, is_txt_deleted)\n",
        "\n",
        "\n",
        "def filter_singlefile(params):\n",
        "    source_dir = params[\"source_dir\"]\n",
        "    file_rel_path = params[\"file_rel_path\"]\n",
        "    min_width = params[\"min_width\"]\n",
        "    min_height = params[\"min_height\"]\n",
        "    silent_on_missing_wrong_facebox = params[\"silent_on_missing_wrong_facebox\"]\n",
        "\n",
        "    sourcefile_abs_path = os.path.join(source_dir, file_rel_path)\n",
        "\n",
        "    log = {\n",
        "        \"sourcefile\": file_rel_path,\n",
        "    }\n",
        "\n",
        "    # ensure is face detction result exists for file\n",
        "    src_file_name, src_file_extension = os.path.splitext(sourcefile_abs_path)\n",
        "    src_txt_filename = f\"{src_file_name}_facebox_retina-mobilenet.txt\"\n",
        "    \n",
        "    if os.path.exists(src_txt_filename):\n",
        "        try:\n",
        "            # read from txt file -- if face deetction done already\n",
        "            f = open(src_txt_filename, \"r\")\n",
        "            lines = f.read().splitlines()\n",
        "            f.close()\n",
        "\n",
        "            if not lines:\n",
        "                return False\n",
        "      \n",
        "            detection = lines[0].split(\" \")\n",
        "            face_box = [int(detection[0]), int(detection[1]), int(detection[2]), int(detection[3])]\n",
        "            confidence = float(detection[4])\n",
        "\n",
        "            # get face cordinates\n",
        "            x, y, w, h = face_box[0], face_box[1], face_box[2], face_box[3]\n",
        "            \n",
        "            if w < min_width:\n",
        "                # remove file if silent not false\n",
        "                remove_img_and_face_result_txt(sourcefile_abs_path, src_txt_filename)\n",
        "                log.update({\n",
        "                    \"code\": 100,\n",
        "                    \"info\": f\"face width {w} less than thresold. files removed.\"\n",
        "                })\n",
        "\n",
        "            elif h < min_height:\n",
        "                # remove file\n",
        "                remove_img_and_face_result_txt(sourcefile_abs_path, src_txt_filename)\n",
        "                log.update({\n",
        "                    \"code\": 101,\n",
        "                    \"info\": f\"face height {h} less than thresold. files removed.\"\n",
        "                })\n",
        "            else:\n",
        "                pass\n",
        "                \n",
        "        except Exception as e:\n",
        "            if not silent_on_missing_wrong_facebox:\n",
        "                #  remove files -- image and face box result txt\n",
        "                remove_img_and_face_result_txt(sourcefile_abs_path, src_txt_filename)\n",
        "                log.update({\n",
        "                    \"code\": 102,\n",
        "                    \"info\": f\"Error reading facebox.\"\n",
        "                })\n",
        "    else:\n",
        "        if not silent_on_missing_wrong_facebox:\n",
        "            remove_img_and_face_result_txt(sourcefile_abs_path, src_txt_filename)\n",
        "                \n",
        "            log.update({\n",
        "                \"code\": 103,\n",
        "                \"info\": f\"Facebox file not found. Associated Image removed.\"\n",
        "            })\n",
        "    return log\n",
        "\n",
        "\n",
        "def filter_small_faces_fulldir_multiprocess(\n",
        "    source_dir,\n",
        "    min_width=120, min_height=120, silent_on_missing_wrong_facebox=False,\n",
        "    multiprocess=True, max_workers=5,\n",
        "    ):\n",
        "    \"\"\"\n",
        "    Filter directory and remove small sized face images\n",
        "    Args:\n",
        "        source_dir (str): source directory\n",
        "        min_width (int, optional): Threshold to filter low sized faces. Defaults to 120.\n",
        "        min_height (int, optional): Width threshold to filter low sized faces. Defaults to 120.\n",
        "        silent_on_missing_wrong_facebox (bool, optional): If true then wrong face detection results (or if missing facebox) and associated image files will not be removed. Defaults to False.\n",
        "        multiprocess (bool, optional): Multiprocessing. Defaults to True.\n",
        "        max_workers (int, optional): Workers for multiprocessing. Defaults to 5.\n",
        "    \"\"\"\n",
        "    # list all files\n",
        "    lst_files = list_files(source_dir, filter_ext=[\".jpg\", \".jpeg\", \".png\"], return_relative_path=True)\n",
        "\n",
        "    lst_params = []\n",
        "    for file_rel_path in lst_files:\n",
        "        lst_params.append({\n",
        "            \"source_dir\": source_dir,\n",
        "            \"file_rel_path\": file_rel_path,\n",
        "            \"min_width\": min_width,\n",
        "            \"min_height\": min_height,\n",
        "            \"silent_on_missing_wrong_facebox\": silent_on_missing_wrong_facebox,\n",
        "        })\n",
        "\n",
        "    # map multiple tasks\n",
        "    result = process_map(filter_singlefile, lst_params , max_workers=10)\n",
        "    return result"
      ],
      "execution_count": null,
      "outputs": []
    },
    {
      "cell_type": "markdown",
      "metadata": {
        "id": "cgbF6ySoV8Sk",
        "colab_type": "text"
      },
      "source": [
        "## *Start*"
      ]
    },
    {
      "cell_type": "code",
      "metadata": {
        "id": "cg8L_UjfV8it",
        "colab_type": "code",
        "colab": {
          "base_uri": "https://localhost:8080/",
          "height": 67,
          "referenced_widgets": [
            "771a5e87249b4fc5a56359e788caf96e",
            "462b50c8c33b4180b4496d55f90856da",
            "4c8d434358564f2890ebe60f53c7f49b",
            "5e4407f567ea4ae0885bd5000a6ba49f",
            "dea9ce31cb9d4bbc8286c459d0025056",
            "b3c3b71532ca481382a820219c5fc97c",
            "e64e6f12ec8b4c6a99d4b3092a549da4",
            "e7712109bb15433a9a1779f50b2641b0"
          ]
        },
        "outputId": "ec7391f3-d338-4364-d747-f2669ad16fdf"
      },
      "source": [
        "### with scaling -- loose face cropping\n",
        "source_dir  = \"/content/filter-faces\"\n",
        "\n",
        "result = filter_small_faces_fulldir_multiprocess(\n",
        "    source_dir,\n",
        "    min_width=120, \n",
        "    min_height=120, \n",
        "    silent_on_missing_wrong_facebox=False,\n",
        "    multiprocess=True, max_workers=5,\n",
        ")"
      ],
      "execution_count": null,
      "outputs": [
        {
          "output_type": "display_data",
          "data": {
            "application/vnd.jupyter.widget-view+json": {
              "model_id": "771a5e87249b4fc5a56359e788caf96e",
              "version_minor": 0,
              "version_major": 2
            },
            "text/plain": [
              "HBox(children=(FloatProgress(value=0.0, max=1.0), HTML(value='')))"
            ]
          },
          "metadata": {
            "tags": []
          }
        },
        {
          "output_type": "stream",
          "text": [
            "\n"
          ],
          "name": "stdout"
        }
      ]
    },
    {
      "cell_type": "code",
      "metadata": {
        "id": "MqwLH7gpW79e",
        "colab_type": "code",
        "colab": {
          "base_uri": "https://localhost:8080/",
          "height": 35
        },
        "outputId": "fa01551a-c48f-46a6-e4af-ea107a015fb1"
      },
      "source": [
        "total_removed_files_cnt = len([k['code'] for k in result if k.get('code')])\n",
        "print(f\"Total removed files count: {total_removed_files_cnt}\")"
      ],
      "execution_count": null,
      "outputs": [
        {
          "output_type": "stream",
          "text": [
            "Total removed files count: 1\n"
          ],
          "name": "stdout"
        }
      ]
    }
  ]
}